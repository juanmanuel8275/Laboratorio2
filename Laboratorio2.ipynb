{
 "cells": [
  {
   "attachments": {},
   "cell_type": "markdown",
   "metadata": {},
   "source": [
    "1. Haga un programa en Python que reciba de parametro un numero de segundos y que despliegue\n",
    "en pantalla, las horas, minutos y segundos que representan. Por ejemplo:\n",
    "Si el numero de segundos recibidos fuera: 2743 entonces su programa deberıa desplegar:\n",
    "Horas: 0, Minutos: 45 , Segundos: 43\n",
    "Si el numero de segundos recibidos fuera 5871: Horas: 1, Minutos: 37 , Segundos: 51\n",
    "Recuerde manejar excepciones y errores que considere necesarios."
   ]
  },
  {
   "cell_type": "code",
   "execution_count": 5,
   "metadata": {},
   "outputs": [
    {
     "name": "stdout",
     "output_type": "stream",
     "text": [
      "Horas: 0, Minutos: 16, Segundos: 40\n"
     ]
    }
   ],
   "source": [
    "def segundos_a_tiempo(segundos):\n",
    "    try:\n",
    "        if segundos < 0:\n",
    "            raise ValueError(\"El número de segundos debe ser un entero positivo.\")\n",
    "        else:\n",
    "            horas = segundos // 3600\n",
    "            minutos = (segundos % 3600) // 60\n",
    "            segundos = segundos % 60\n",
    "            print(\"Horas: {}, Minutos: {}, Segundos: {}\".format(horas, minutos, segundos))\n",
    "    except ValueError as e:\n",
    "        print(\"Error:\", e)\n",
    "\n",
    "\n",
    "segundos_a_tiempo(1000)\n",
    "\n"
   ]
  },
  {
   "attachments": {},
   "cell_type": "markdown",
   "metadata": {},
   "source": [
    "2. Haga una funcion en Python que dado un numero entre 1 y 20. Y un caracter cualquiera\n",
    "despliegue cuatro patrones triangulares."
   ]
  },
  {
   "cell_type": "code",
   "execution_count": 7,
   "metadata": {},
   "outputs": [
    {
     "name": "stdout",
     "output_type": "stream",
     "text": [
      "*\n",
      "**\n",
      "***\n",
      "\n",
      "***\n",
      "**\n",
      "*\n",
      "\n",
      "  *\n",
      " **\n",
      "***\n",
      "\n",
      "***\n",
      " **\n",
      "  *\n"
     ]
    }
   ],
   "source": [
    "def dibujar_patrones(numero, caracter):\n",
    "    try:\n",
    "        if numero < 1 or numero > 20:\n",
    "            raise ValueError(\"El número debe estar entre 1 y 20.\")\n",
    "        else:\n",
    "            for i in range(1, numero+1):\n",
    "                print(caracter * i)\n",
    "            print()\n",
    "\n",
    "            for i in range(numero, 0, -1):\n",
    "                print(caracter * i)\n",
    "            print()\n",
    "\n",
    "            for i in range(1, numero+1):\n",
    "                print(\" \" * (numero - i) + caracter * i)\n",
    "            print()\n",
    "\n",
    "            for i in range(numero, 0, -1):\n",
    "                print(\" \" * (numero - i) + caracter * i)\n",
    "    except ValueError as e:\n",
    "        print(\"Error:\", e)\n",
    "\n",
    "dibujar_patrones(3, '*')"
   ]
  },
  {
   "attachments": {},
   "cell_type": "markdown",
   "metadata": {},
   "source": [
    "3. Haga un programa en Python que la fecha de nacimiento de una persona (puede ingresar por\n",
    "separado cada valor, es decir pedir primero d´ıa, luego mes y luego a˜no), despliegue la edad\n",
    "de la persona en a˜nos, meses y d´ıas. Su resultado puede ser aproximado."
   ]
  },
  {
   "cell_type": "code",
   "execution_count": 9,
   "metadata": {},
   "outputs": [
    {
     "name": "stdout",
     "output_type": "stream",
     "text": [
      "Edad: 48 años, 1 meses, 7 días.\n"
     ]
    }
   ],
   "source": [
    "from datetime import date\n",
    "\n",
    "def calcular_edad(dia_nacimiento, mes_nacimiento, anio_nacimiento):\n",
    "    try:\n",
    "        fecha_nacimiento = date(anio_nacimiento, mes_nacimiento, dia_nacimiento)\n",
    "        hoy = date.today()\n",
    "        edad = hoy - fecha_nacimiento\n",
    "        anios = edad.days // 365\n",
    "        meses = (edad.days % 365) // 30\n",
    "        dias = (edad.days % 365) % 30\n",
    "        print(\"Edad: {} años, {} meses, {} días.\".format(anios, meses, dias))\n",
    "    except ValueError:\n",
    "        print(\"Error: Fecha de nacimiento inválida.\")\n",
    "\n",
    "calcular_edad(8, 2, 1975)"
   ]
  },
  {
   "attachments": {},
   "cell_type": "markdown",
   "metadata": {},
   "source": [
    "4. Escriba una funci´on en Python que dada una tupla de elementos (n´umeros o letras) esta se\n",
    "convierta a un string. Tomar nota del siguiente ejemplo:\n",
    "Si la entrada fuera: (10, 20, 40, 5, 70)\n",
    "La salida deber´ıa ser: 102040570"
   ]
  },
  {
   "cell_type": "code",
   "execution_count": 11,
   "metadata": {},
   "outputs": [
    {
     "name": "stdout",
     "output_type": "stream",
     "text": [
      "102040570\n"
     ]
    }
   ],
   "source": [
    "def convertir_tupla_a_string(tupla):\n",
    "    try:\n",
    "        # Convertir los elementos de la tupla a una lista de strings\n",
    "        lista_strings = [str(elemento) for elemento in tupla]\n",
    "\n",
    "        # Concatenar los elementos de la lista en un solo string\n",
    "        resultado = ''.join(lista_strings)\n",
    "\n",
    "        # Imprimir el resultado\n",
    "        print(resultado)\n",
    "    except TypeError:\n",
    "        print(\"Error: La tupla debe contener elementos que se puedan convertir a string.\")\n",
    "\n",
    "mi_tupla = (10, 20, 40, 5, 70)\n",
    "convertir_tupla_a_string(mi_tupla)\n"
   ]
  },
  {
   "attachments": {},
   "cell_type": "markdown",
   "metadata": {},
   "source": [
    "5. Cree un programa en Python que dada una lista de tuplas, elimine las tuplas que est´an vac´ıas.\n",
    "Tomar nota del siguiente ejemplo:\n",
    "Si la lista fuera: [(), (), (’X’,), (’a’, ’b’), (’a’, ’b’, ’c’), (’d’)]\n",
    "El resultado deber´ıa ser: [(’X’), (’a’, ’b’), (’a’, ’b’, ’c’), ’d’]"
   ]
  },
  {
   "cell_type": "code",
   "execution_count": 12,
   "metadata": {},
   "outputs": [
    {
     "name": "stdout",
     "output_type": "stream",
     "text": [
      "[('X',), ('a', 'b'), ('a', 'b', 'c'), 'd']\n"
     ]
    }
   ],
   "source": [
    "def eliminar_tuplas_vacias(lista):\n",
    "    try:\n",
    "        # Utilizar una list comprehension para crear una nueva lista que contenga solo las tuplas no vacías\n",
    "        nueva_lista = [tupla for tupla in lista if tupla]\n",
    "\n",
    "        # Imprimir el resultado\n",
    "        print(nueva_lista)\n",
    "    except TypeError:\n",
    "        print(\"Error: La lista debe contener solo tuplas.\")\n",
    "\n",
    "mi_lista = [(), (), ('X',), ('a', 'b'), ('a', 'b', 'c'), ('d')]\n",
    "eliminar_tuplas_vacias(mi_lista)"
   ]
  },
  {
   "attachments": {},
   "cell_type": "markdown",
   "metadata": {},
   "source": [
    "6. Cree una funcion en Python que dada una tupla de tuplas con numeros, produzca una tupla\n",
    "con el promedio de cada tupla individual. Tomar nota del siguiente ejemplo:\n",
    "Si la tupla de entrada fuera: ((10, 10, 10, 12), (30, 45, 56, 45), (81, 80, 39, 32))\n",
    "El resultado deber´ıa ser: (10.5, 44, 58)"
   ]
  },
  {
   "cell_type": "code",
   "execution_count": 13,
   "metadata": {},
   "outputs": [
    {
     "name": "stdout",
     "output_type": "stream",
     "text": [
      "(10.5, 44.0, 58.0)\n"
     ]
    }
   ],
   "source": [
    "def calcular_promedio_por_tupla(tupla_de_tuplas):\n",
    "    try:\n",
    "        # Utilizar una list comprehension para calcular el promedio de cada tupla individual\n",
    "        promedios = tuple(sum(tupla)/len(tupla) for tupla in tupla_de_tuplas)\n",
    "\n",
    "        # Imprimir el resultado\n",
    "        print(promedios)\n",
    "    except TypeError:\n",
    "        print(\"Error: La tupla debe contener solo tuplas numéricas.\")\n",
    "\n",
    "mi_tupla = ((10, 10, 10, 12), (30, 45, 56, 45), (81, 80, 39, 32))\n",
    "calcular_promedio_por_tupla(mi_tupla)\n"
   ]
  },
  {
   "attachments": {},
   "cell_type": "markdown",
   "metadata": {},
   "source": [
    "7. Escribir un programa que gestione las facturas pendientes de cobro de una empresa. Las facturas se almacenaran en un diccionario donde la llave de cada factura sera el numero de\n",
    "factura (debe utilizar un numero de 4 digitos) y el valor el coste de la factura. El programa debe preguntar al usuario si quiere añadir una nueva factura, pagar una existente o terminar.\n",
    "Si desea añadir una nueva factura se preguntara por el numero de factura y su coste y se añadira al diccionario, para confirmar que la factura se ingreso correctamente el programa\n",
    "debe desplegar el diccionario completo. Si se desea pagar una factura se preguntara por el numero de factura y se eliminara del diccionario. Despues de cada operacion el programa\n",
    "debe mostrar en pantalla la cantidad cobrada hasta el momento y la cantidad pendiente de cobro. Puede utilizar otras estructuras de datos como apoyo si lo considera necesario."
   ]
  },
  {
   "cell_type": "code",
   "execution_count": 16,
   "metadata": {},
   "outputs": [
    {
     "name": "stdout",
     "output_type": "stream",
     "text": [
      "\n",
      "--- Facturas pendientes de cobro ---\n",
      "1. Añadir nueva factura\n",
      "2. Pagar factura existente\n",
      "3. Terminar\n",
      "El número de factura ingresado no existe.\n",
      "Cantidad cobrada hasta el momento: 0\n",
      "Cantidad pendiente de cobro: 0\n",
      "\n",
      "--- Facturas pendientes de cobro ---\n",
      "1. Añadir nueva factura\n",
      "2. Pagar factura existente\n",
      "3. Terminar\n",
      "Saliendo del programa...\n"
     ]
    }
   ],
   "source": [
    "facturas = {}\n",
    "\n",
    "while True:\n",
    "    print(\"\\n--- Facturas pendientes de cobro ---\")\n",
    "    print(\"1. Añadir nueva factura\")\n",
    "    print(\"2. Pagar factura existente\")\n",
    "    print(\"3. Terminar\")\n",
    "    opcion = input(\"Ingrese una opcion: \")\n",
    "\n",
    "    if opcion == \"1\":\n",
    "        num_factura = input(\"Ingrese el número de la factura (4 dígitos): \")\n",
    "        costo_factura = float(input(\"Ingrese el costo de la factura: \"))\n",
    "        facturas[num_factura] = costo_factura\n",
    "        print(\"Factura añadida correctamente: \", facturas)\n",
    "\n",
    "    elif opcion == \"2\":\n",
    "        num_factura = input(\"Ingrese el número de la factura a pagar: \")\n",
    "        if num_factura in facturas:\n",
    "            del facturas[num_factura]\n",
    "            print(\"Factura pagada correctamente: \", facturas)\n",
    "        else:\n",
    "            print(\"El número de factura ingresado no existe.\")\n",
    "\n",
    "    elif opcion == \"3\":\n",
    "        print(\"Saliendo del programa...\")\n",
    "        break\n",
    "\n",
    "    else:\n",
    "        print(\"Opción no válida. Intente de nuevo.\")\n",
    "\n",
    "    # Calcular la cantidad cobrada hasta el momento y la cantidad pendiente de cobro\n",
    "    cobrado = sum(facturas.values())\n",
    "    pendiente = 0 if not facturas else sum(facturas.values())\n",
    "\n",
    "    print(\"Cantidad cobrada hasta el momento:\", cobrado)\n",
    "    print(\"Cantidad pendiente de cobro:\", pendiente)\n"
   ]
  }
 ],
 "metadata": {
  "kernelspec": {
   "display_name": "base",
   "language": "python",
   "name": "python3"
  },
  "language_info": {
   "codemirror_mode": {
    "name": "ipython",
    "version": 3
   },
   "file_extension": ".py",
   "mimetype": "text/x-python",
   "name": "python",
   "nbconvert_exporter": "python",
   "pygments_lexer": "ipython3",
   "version": "3.9.13"
  },
  "orig_nbformat": 4,
  "vscode": {
   "interpreter": {
    "hash": "a36ac3473f4f765ee1d32c07f947cfa193603dbfd7ba2aa7bf3e12c57f78d587"
   }
  }
 },
 "nbformat": 4,
 "nbformat_minor": 2
}
